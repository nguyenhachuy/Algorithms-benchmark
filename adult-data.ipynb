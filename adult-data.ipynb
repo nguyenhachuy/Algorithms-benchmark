{
 "cells": [
  {
   "cell_type": "code",
   "execution_count": 1,
   "metadata": {},
   "outputs": [],
   "source": [
    "import pandas as pd\n",
    "import matplotlib.pyplot as plt\n",
    "import seaborn as sns\n",
    "import numpy as np\n",
    "from scipy.stats import norm\n",
    "from sklearn.preprocessing import StandardScaler\n",
    "from scipy import stats\n",
    "import warnings\n",
    "warnings.filterwarnings('ignore')\n",
    "%matplotlib inline\n",
    "import json"
   ]
  },
  {
   "cell_type": "code",
   "execution_count": 2,
   "metadata": {},
   "outputs": [],
   "source": [
    "TRAIN_PATH = './adult/adult.data'\n",
    "NAME_PATH = './adult/adult.names'\n",
    "BINARY_CLASS_PATH = './adult/adult.pkl'"
   ]
  },
  {
   "cell_type": "code",
   "execution_count": 3,
   "metadata": {},
   "outputs": [],
   "source": [
    "df = pd.read_csv(TRAIN_PATH, header=None, index_col=False)\n"
   ]
  },
  {
   "cell_type": "code",
   "execution_count": 4,
   "metadata": {},
   "outputs": [],
   "source": [
    "df.iloc[:, 14].replace([' <=50K', ' >50K'], [-1, 1], inplace=True)\n",
    "df.iloc[:, 13] = df.iloc[:, 13].astype('category')\n",
    "df.iloc[:, 9] = df.iloc[:, 9].astype('category')\n",
    "df.iloc[:, 8] = df.iloc[:, 8].astype('category')\n",
    "df.iloc[:, 7] = df.iloc[:, 7].astype('category')\n",
    "df.iloc[:, 6] = df.iloc[:, 6].astype('category')\n",
    "df.iloc[:, 5] = df.iloc[:, 5].astype('category')\n",
    "df.iloc[:, 3] = df.iloc[:, 3].astype('category')\n",
    "df.iloc[:, 1] = df.iloc[:, 1].astype('category')\n",
    "\n",
    "# df.replace('x', 1, inplace=True)\n",
    "# df.replace('o', -1, inplace=True)\n",
    "# df.replace('win', 1, inplace=True)\n",
    "# df.replace('loss', -1, inplace=True)\n",
    "# df.replace('draw', 0, inplace=True)"
   ]
  },
  {
   "cell_type": "code",
   "execution_count": 5,
   "metadata": {},
   "outputs": [
    {
     "name": "stdout",
     "output_type": "stream",
     "text": [
      "Int64Index([0, 1, 2, 3, 4, 5, 6, 7, 8, 9, 10, 11, 12, 13, 14], dtype='int64')\n"
     ]
    }
   ],
   "source": [
    "print(df.columns)"
   ]
  },
  {
   "cell_type": "code",
   "execution_count": 6,
   "metadata": {},
   "outputs": [
    {
     "name": "stdout",
     "output_type": "stream",
     "text": [
      "   0                  1       2           3   4                    5   \\\n",
      "0  39          State-gov   77516   Bachelors  13        Never-married   \n",
      "1  50   Self-emp-not-inc   83311   Bachelors  13   Married-civ-spouse   \n",
      "2  38            Private  215646     HS-grad   9             Divorced   \n",
      "3  53            Private  234721        11th   7   Married-civ-spouse   \n",
      "4  28            Private  338409   Bachelors  13   Married-civ-spouse   \n",
      "\n",
      "                   6               7       8        9     10  11  12  \\\n",
      "0        Adm-clerical   Not-in-family   White     Male  2174   0  40   \n",
      "1     Exec-managerial         Husband   White     Male     0   0  13   \n",
      "2   Handlers-cleaners   Not-in-family   White     Male     0   0  40   \n",
      "3   Handlers-cleaners         Husband   Black     Male     0   0  40   \n",
      "4      Prof-specialty            Wife   Black   Female     0   0  40   \n",
      "\n",
      "               13  14  \n",
      "0   United-States  -1  \n",
      "1   United-States  -1  \n",
      "2   United-States  -1  \n",
      "3   United-States  -1  \n",
      "4            Cuba  -1  \n"
     ]
    }
   ],
   "source": [
    "print(df.head())"
   ]
  },
  {
   "cell_type": "code",
   "execution_count": 7,
   "metadata": {
    "scrolled": true
   },
   "outputs": [
    {
     "name": "stdout",
     "output_type": "stream",
     "text": [
      "                 0             2             4             10            11  \\\n",
      "count  32561.000000  3.256100e+04  32561.000000  32561.000000  32561.000000   \n",
      "mean      38.581647  1.897784e+05     10.080679   1077.648844     87.303830   \n",
      "std       13.640433  1.055500e+05      2.572720   7385.292085    402.960219   \n",
      "min       17.000000  1.228500e+04      1.000000      0.000000      0.000000   \n",
      "25%       28.000000  1.178270e+05      9.000000      0.000000      0.000000   \n",
      "50%       37.000000  1.783560e+05     10.000000      0.000000      0.000000   \n",
      "75%       48.000000  2.370510e+05     12.000000      0.000000      0.000000   \n",
      "max       90.000000  1.484705e+06     16.000000  99999.000000   4356.000000   \n",
      "\n",
      "                 12            14  \n",
      "count  32561.000000  32561.000000  \n",
      "mean      40.437456     -0.518381  \n",
      "std       12.347429      0.855163  \n",
      "min        1.000000     -1.000000  \n",
      "25%       40.000000     -1.000000  \n",
      "50%       40.000000     -1.000000  \n",
      "75%       45.000000     -1.000000  \n",
      "max       99.000000      1.000000  \n"
     ]
    }
   ],
   "source": [
    "print(df.describe())"
   ]
  },
  {
   "cell_type": "code",
   "execution_count": 8,
   "metadata": {},
   "outputs": [
    {
     "name": "stdout",
     "output_type": "stream",
     "text": [
      "0        int64\n",
      "1     category\n",
      "2        int64\n",
      "3     category\n",
      "4        int64\n",
      "5     category\n",
      "6     category\n",
      "7     category\n",
      "8     category\n",
      "9     category\n",
      "10       int64\n",
      "11       int64\n",
      "12       int64\n",
      "13    category\n",
      "14       int64\n",
      "dtype: object\n"
     ]
    }
   ],
   "source": [
    "print(df.dtypes)"
   ]
  },
  {
   "cell_type": "code",
   "execution_count": 9,
   "metadata": {},
   "outputs": [
    {
     "data": {
      "image/png": "[encoded data removed]",
      "text/plain": [
       "<Figure size 864x648 with 2 Axes>"
      ]
     },
     "metadata": {
      "needs_background": "light"
     },
     "output_type": "display_data"
    }
   ],
   "source": [
    "corrmat = df.corr()\n",
    "f, ax = plt.subplots(figsize=(12, 9))\n",
    "sns.heatmap(corrmat, vmax=.8, square=True);\n"
   ]
  },
  {
   "cell_type": "code",
   "execution_count": 10,
   "metadata": {},
   "outputs": [
    {
     "name": "stdout",
     "output_type": "stream",
     "text": [
      "   0                  1       2           3   4                    5   \\\n",
      "0  39          State-gov   77516   Bachelors  13        Never-married   \n",
      "1  50   Self-emp-not-inc   83311   Bachelors  13   Married-civ-spouse   \n",
      "2  38            Private  215646     HS-grad   9             Divorced   \n",
      "3  53            Private  234721        11th   7   Married-civ-spouse   \n",
      "4  28            Private  338409   Bachelors  13   Married-civ-spouse   \n",
      "\n",
      "                   6               7       8        9     10  11  12  \\\n",
      "0        Adm-clerical   Not-in-family   White     Male  2174   0  40   \n",
      "1     Exec-managerial         Husband   White     Male     0   0  13   \n",
      "2   Handlers-cleaners   Not-in-family   White     Male     0   0  40   \n",
      "3   Handlers-cleaners         Husband   Black     Male     0   0  40   \n",
      "4      Prof-specialty            Wife   Black   Female     0   0  40   \n",
      "\n",
      "               13  14  \n",
      "0   United-States  -1  \n",
      "1   United-States  -1  \n",
      "2   United-States  -1  \n",
      "3   United-States  -1  \n",
      "4            Cuba  -1  \n"
     ]
    }
   ],
   "source": [
    "print(df.head())"
   ]
  },
  {
   "cell_type": "code",
   "execution_count": 11,
   "metadata": {},
   "outputs": [
    {
     "name": "stdout",
     "output_type": "stream",
     "text": [
      "    Total  Percent\n",
      "14      0      0.0\n",
      "13      0      0.0\n",
      "12      0      0.0\n",
      "11      0      0.0\n",
      "10      0      0.0\n",
      "Any missing:\n",
      "\n",
      "0     0\n",
      "1     0\n",
      "2     0\n",
      "3     0\n",
      "4     0\n",
      "5     0\n",
      "6     0\n",
      "7     0\n",
      "8     0\n",
      "9     0\n",
      "10    0\n",
      "11    0\n",
      "12    0\n",
      "13    0\n",
      "14    0\n",
      "dtype: int64\n"
     ]
    }
   ],
   "source": [
    "total = df.isnull().sum().sort_values(ascending=False)\n",
    "percent = (df.isnull().sum()/df.isnull().count()).sort_values(ascending=False)\n",
    "missing_data = pd.concat([total, percent], axis=1, keys=['Total', 'Percent'])\n",
    "print(missing_data.head())\n",
    "print('Any missing:\\n') \n",
    "print('{}'.format(pd.isnull(df).sum()))"
   ]
  },
  {
   "cell_type": "code",
   "execution_count": 12,
   "metadata": {},
   "outputs": [
    {
     "name": "stdout",
     "output_type": "stream",
     "text": [
      "[-1  1]\n",
      "   label   0                  1       2           3   4                    5  \\\n",
      "0     -1  39          State-gov   77516   Bachelors  13        Never-married   \n",
      "1     -1  50   Self-emp-not-inc   83311   Bachelors  13   Married-civ-spouse   \n",
      "2     -1  38            Private  215646     HS-grad   9             Divorced   \n",
      "3     -1  53            Private  234721        11th   7   Married-civ-spouse   \n",
      "4     -1  28            Private  338409   Bachelors  13   Married-civ-spouse   \n",
      "\n",
      "                    6               7       8        9    10  11  12  \\\n",
      "0        Adm-clerical   Not-in-family   White     Male  2174   0  40   \n",
      "1     Exec-managerial         Husband   White     Male     0   0  13   \n",
      "2   Handlers-cleaners   Not-in-family   White     Male     0   0  40   \n",
      "3   Handlers-cleaners         Husband   Black     Male     0   0  40   \n",
      "4      Prof-specialty            Wife   Black   Female     0   0  40   \n",
      "\n",
      "               13  \n",
      "0   United-States  \n",
      "1   United-States  \n",
      "2   United-States  \n",
      "3   United-States  \n",
      "4            Cuba  \n"
     ]
    }
   ],
   "source": [
    "labels = df.iloc[:, 14]\n",
    "df.drop(labels=df.columns[14], axis=1, inplace=True)\n",
    "print(labels.unique())\n",
    "df.insert(0, column='label', value=labels)\n",
    "print(df.head())\n",
    "# print(df_test.iloc[:, 0].unique())"
   ]
  },
  {
   "cell_type": "code",
   "execution_count": 13,
   "metadata": {},
   "outputs": [],
   "source": [
    "# with open(NAME_PATH, \"r\") as read_file:\n",
    "#     data = json.loads(read_file)\n",
    "#     print(read_file)"
   ]
  },
  {
   "cell_type": "code",
   "execution_count": 14,
   "metadata": {},
   "outputs": [],
   "source": [
    "df.to_pickle(BINARY_CLASS_PATH)"
   ]
  },
  {
   "cell_type": "code",
   "execution_count": null,
   "metadata": {},
   "outputs": [],
   "source": []
  }
 ],
 "metadata": {
  "kernelspec": {
   "display_name": "Python 3",
   "language": "python",
   "name": "python3"
  },
  "language_info": {
   "codemirror_mode": {
    "name": "ipython",
    "version": 3
   },
   "file_extension": ".py",
   "mimetype": "text/x-python",
   "name": "python",
   "nbconvert_exporter": "python",
   "pygments_lexer": "ipython3",
   "version": "3.7.1"
  }
 },
 "nbformat": 4,
 "nbformat_minor": 2
}
