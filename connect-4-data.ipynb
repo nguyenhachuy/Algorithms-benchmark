{
 "cells": [
  {
   "cell_type": "code",
   "execution_count": 1,
   "metadata": {},
   "outputs": [],
   "source": [
    "import pandas as pd\n",
    "import matplotlib.pyplot as plt\n",
    "import seaborn as sns\n",
    "import numpy as np\n",
    "from scipy.stats import norm\n",
    "from sklearn.preprocessing import StandardScaler\n",
    "from scipy import stats\n",
    "import warnings\n",
    "warnings.filterwarnings('ignore')\n",
    "%matplotlib inline\n",
    "import json"
   ]
  },
  {
   "cell_type": "code",
   "execution_count": 28,
   "metadata": {},
   "outputs": [],
   "source": [
    "TRAIN_PATH = './connect-4/connect-4.data'\n",
    "NAME_PATH = './connect-4/connect-4.names'\n",
    "# TEST_PATH = './dota2Dataset/dota2Test.csv'\n",
    "BINARY_CLASS_PATH = './connect-4/connect-4-binary.csv'"
   ]
  },
  {
   "cell_type": "code",
   "execution_count": 3,
   "metadata": {},
   "outputs": [],
   "source": [
    "df = pd.read_csv(TRAIN_PATH, header=None, index_col=None)\n",
    "# df_test = pd.read_csv(TEST_PATH, header=None, index_col=None)"
   ]
  },
  {
   "cell_type": "code",
   "execution_count": 16,
   "metadata": {},
   "outputs": [],
   "source": [
    "df.replace('b', 0, inplace=True)\n",
    "df.replace('x', 1, inplace=True)\n",
    "df.replace('o', -1, inplace=True)\n",
    "df.replace('win', 1, inplace=True)\n",
    "df.replace('loss', -1, inplace=True)\n",
    "df.replace('draw', 0, inplace=True)"
   ]
  },
  {
   "cell_type": "code",
   "execution_count": 17,
   "metadata": {},
   "outputs": [
    {
     "name": "stdout",
     "output_type": "stream",
     "text": [
      "Int64Index([ 0,  1,  2,  3,  4,  5,  6,  7,  8,  9, 10, 11, 12, 13, 14, 15, 16,\n",
      "            17, 18, 19, 20, 21, 22, 23, 24, 25, 26, 27, 28, 29, 30, 31, 32, 33,\n",
      "            34, 35, 36, 37, 38, 39, 40, 41, 42],\n",
      "           dtype='int64')\n"
     ]
    }
   ],
   "source": [
    "print(df.columns)"
   ]
  },
  {
   "cell_type": "code",
   "execution_count": 18,
   "metadata": {
    "scrolled": true
   },
   "outputs": [
    {
     "name": "stdout",
     "output_type": "stream",
     "text": [
      "                 0             1             2             3             4   \\\n",
      "count  67557.000000  67557.000000  67557.000000  67557.000000  67557.000000   \n",
      "mean       0.028524      0.001835     -0.004826     -0.003538     -0.000266   \n",
      "std        0.793350      0.598167      0.425350      0.296529      0.184194   \n",
      "min       -1.000000     -1.000000     -1.000000     -1.000000     -1.000000   \n",
      "25%       -1.000000      0.000000      0.000000      0.000000      0.000000   \n",
      "50%        0.000000      0.000000      0.000000      0.000000      0.000000   \n",
      "75%        1.000000      0.000000      0.000000      0.000000      0.000000   \n",
      "max        1.000000      1.000000      1.000000      1.000000      1.000000   \n",
      "\n",
      "                 5             6             7             8             9   \\\n",
      "count  67557.000000  67557.000000  67557.000000  67557.000000  67557.000000   \n",
      "mean      -0.003123      0.088710     -0.002235     -0.007238     -0.003952   \n",
      "std        0.087425      0.818452      0.624853      0.442058      0.306586   \n",
      "min       -1.000000     -1.000000     -1.000000     -1.000000     -1.000000   \n",
      "25%        0.000000     -1.000000      0.000000      0.000000      0.000000   \n",
      "50%        0.000000      0.000000      0.000000      0.000000      0.000000   \n",
      "75%        0.000000      1.000000      0.000000      0.000000      0.000000   \n",
      "max        1.000000      1.000000      1.000000      1.000000      1.000000   \n",
      "\n",
      "           ...                 33            34            35            36  \\\n",
      "count      ...       67557.000000  67557.000000  67557.000000  67557.000000   \n",
      "mean       ...          -0.003878     -0.002309     -0.000770     -0.000918   \n",
      "std        ...           0.200545      0.104494      0.036084      0.748298   \n",
      "min        ...          -1.000000     -1.000000     -1.000000     -1.000000   \n",
      "25%        ...           0.000000      0.000000      0.000000     -1.000000   \n",
      "50%        ...           0.000000      0.000000      0.000000      0.000000   \n",
      "75%        ...           0.000000      0.000000      0.000000      1.000000   \n",
      "max        ...           1.000000      1.000000      1.000000      1.000000   \n",
      "\n",
      "                 37            38            39            40            41  \\\n",
      "count  67557.000000  67557.000000  67557.000000  67557.000000  67557.000000   \n",
      "mean      -0.005018     -0.003020     -0.004648     -0.003242     -0.000829   \n",
      "std        0.536590      0.358602      0.219489      0.111925      0.036894   \n",
      "min       -1.000000     -1.000000     -1.000000     -1.000000     -1.000000   \n",
      "25%        0.000000      0.000000      0.000000      0.000000      0.000000   \n",
      "50%        0.000000      0.000000      0.000000      0.000000      0.000000   \n",
      "75%        0.000000      0.000000      0.000000      0.000000      0.000000   \n",
      "max        1.000000      1.000000      1.000000      1.000000      1.000000   \n",
      "\n",
      "                 42  \n",
      "count  67557.000000  \n",
      "mean       0.412067  \n",
      "std        0.857177  \n",
      "min       -1.000000  \n",
      "25%        0.000000  \n",
      "50%        1.000000  \n",
      "75%        1.000000  \n",
      "max        1.000000  \n",
      "\n",
      "[8 rows x 43 columns]\n"
     ]
    }
   ],
   "source": [
    "print(df.describe())"
   ]
  },
  {
   "cell_type": "code",
   "execution_count": 19,
   "metadata": {},
   "outputs": [
    {
     "data": {
      "image/png": "[encoded data removed]",
      "text/plain": [
       "<Figure size 864x648 with 2 Axes>"
      ]
     },
     "metadata": {
      "needs_background": "light"
     },
     "output_type": "display_data"
    }
   ],
   "source": [
    "corrmat = df.corr()\n",
    "f, ax = plt.subplots(figsize=(12, 9))\n",
    "sns.heatmap(corrmat, vmax=.8, square=True);\n"
   ]
  },
  {
   "cell_type": "code",
   "execution_count": 20,
   "metadata": {},
   "outputs": [
    {
     "name": "stdout",
     "output_type": "stream",
     "text": [
      "   0   1   2   3   4   5   6   7   8   9  ...  33  34  35  36  37  38  39  40  \\\n",
      "0   0   0   0   0   0   0   0   0   0   0 ...   0   0   0   0   0   0   0   0   \n",
      "1   0   0   0   0   0   0   0   0   0   0 ...   0   0   0   0   0   0   0   0   \n",
      "2   0   0   0   0   0   0  -1   0   0   0 ...   0   0   0   0   0   0   0   0   \n",
      "3   0   0   0   0   0   0   0   0   0   0 ...   0   0   0   0   0   0   0   0   \n",
      "4  -1   0   0   0   0   0   0   0   0   0 ...   0   0   0   0   0   0   0   0   \n",
      "\n",
      "   41  42  \n",
      "0   0   1  \n",
      "1   0   1  \n",
      "2   0   1  \n",
      "3   0   1  \n",
      "4   0   1  \n",
      "\n",
      "[5 rows x 43 columns]\n"
     ]
    }
   ],
   "source": [
    "print(df.head())"
   ]
  },
  {
   "cell_type": "code",
   "execution_count": 21,
   "metadata": {},
   "outputs": [
    {
     "name": "stdout",
     "output_type": "stream",
     "text": [
      "    Total  Percent\n",
      "42      0      0.0\n",
      "10      0      0.0\n",
      "18      0      0.0\n",
      "17      0      0.0\n",
      "16      0      0.0\n",
      "Any missing: 0\n"
     ]
    }
   ],
   "source": [
    "total = df.isnull().sum().sort_values(ascending=False)\n",
    "percent = (df.isnull().sum()/df.isnull().count()).sort_values(ascending=False)\n",
    "missing_data = pd.concat([total, percent], axis=1, keys=['Total', 'Percent'])\n",
    "print(missing_data.head())\n",
    "print('Any missing: {}'.format((total > 0).sum()))"
   ]
  },
  {
   "cell_type": "code",
   "execution_count": 23,
   "metadata": {},
   "outputs": [
    {
     "name": "stdout",
     "output_type": "stream",
     "text": [
      "[ 0 -1  1]\n"
     ]
    }
   ],
   "source": [
    "print(df.iloc[:, 0].unique())\n",
    "# print(df_test.iloc[:, 0].unique())"
   ]
  },
  {
   "cell_type": "code",
   "execution_count": null,
   "metadata": {},
   "outputs": [],
   "source": [
    "# with open(NAME_PATH, \"r\") as read_file:\n",
    "#     data = json.loads(read_file)\n",
    "#     print(read_file)"
   ]
  },
  {
   "cell_type": "code",
   "execution_count": 25,
   "metadata": {},
   "outputs": [
    {
     "name": "stdout",
     "output_type": "stream",
     "text": [
      "[ 1 -1]\n"
     ]
    }
   ],
   "source": [
    "win_loss = df.iloc[:, 42] != 0\n",
    "df = df[win_loss]\n",
    "print(df.iloc[:, 42].unique())"
   ]
  },
  {
   "cell_type": "code",
   "execution_count": 29,
   "metadata": {},
   "outputs": [],
   "source": [
    "df.to_csv(BINARY_CLASS_PATH, header=False, index=False)"
   ]
  },
  {
   "cell_type": "code",
   "execution_count": null,
   "metadata": {},
   "outputs": [],
   "source": []
  }
 ],
 "metadata": {
  "kernelspec": {
   "display_name": "Python 3",
   "language": "python",
   "name": "python3"
  },
  "language_info": {
   "codemirror_mode": {
    "name": "ipython",
    "version": 3
   },
   "file_extension": ".py",
   "mimetype": "text/x-python",
   "name": "python",
   "nbconvert_exporter": "python",
   "pygments_lexer": "ipython3",
   "version": "3.7.1"
  }
 },
 "nbformat": 4,
 "nbformat_minor": 2
}
